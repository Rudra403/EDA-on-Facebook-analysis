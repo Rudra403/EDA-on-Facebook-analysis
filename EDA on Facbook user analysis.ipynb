{
 "cells": [
  {
   "cell_type": "markdown",
   "metadata": {
    "colab_type": "text",
    "id": "9ku0h8OsoHJz"
   },
   "source": [
    "<p align=\"center\"><img src=\"https://github.com/insaid2018/Term-1/blob/master/Images/INSAID_Full%20Logo.png?raw=true\" width=\"260\" height=\"110\" /></p>"
   ]
  },
  {
   "cell_type": "markdown",
   "metadata": {
    "colab_type": "text",
    "id": "NWvRwRdGoK5Y"
   },
   "source": [
    "---\n",
    "# **Table of Contents**\n",
    "---\n",
    "\n",
    "1. [**Introduction**](#Section1)<br>\n",
    "2. [**Problem Statement**](#Section2)<br>\n",
    "3. [**Installing & Importing Libraries**](#Section3)<br>\n",
    "  3.1 [**Installing Libraries**](#Section31)<br>\n",
    "  3.2 [**Upgrading Libraries**](#Section32)<br>\n",
    "  3.3 [**Importing Libraries**](#Section33)<br>\n",
    "4. [**Data Acquisition & Description**](#Section4)<br>\n",
    "5. [**Data Pre-Profiling**](#Section5)<br>\n",
    "6. [**Data Pre-Processing**](#Section6)<br>\n",
    "7. [**Data Post-Profiling**](#Section7)<br>\n",
    "8. [**Exploratory Data Analysis**](#Section8)<br>\n",
    "- 8.1  [**Which Age category has maximum no of Facebook users?**](#Section81)</br>\n",
    "- 8.2 [**Which Gender category has highest facebook users?**](#Section82)\n",
    "- 8.3 [**Among different Age categories which Gender category has highest facebook users?**](#Section83)\n",
    "- 8.4 [**Which Age category users has highest Friend counts?**](#Section84)\n",
    "- 8.5 [**Which Age category users has Intiated highest Friend requests?**](#Section85)\n",
    "- 8.6 [**Which Age category users gives more Likes?**](#Section86)\n",
    "- 8.7 [**Which Age category users Recives more Likes?**](#Section87)\n",
    "- 8.8 [**Which Gender category users has more Friend count and intiated more frend requests?**](#Section88)\n",
    "- 8.9 [**Which Gender category users gives more Likes and recives more Likes?**](#Section89)\n",
    "- 8.10 [**Which is the most preffered option for using Facebook among all the users?**](#Section810)\n",
    "- 8.11 [**Which is the most preffered option for using Facebook among different Age categories?**](#Section811)\n",
    "- 8.12 [**Which is the most preffered option for using Facebook among different Gender categories?**](#Section812)\n",
    "- 8.13 [**Which age group users are having highest tenure in the facebook?**](#Section813)\n",
    "- 8.14 [**Which gender category users are having highest tenure in the facebook?**](#Section814)\n",
    "- 8.15 [**Which Users gives and recives more Likes among Mobile App and Web?**](#Section815)\n",
    "9. [**Summarization**](#Section9)</br>\n",
    "- 9.1 [**Conclusion**](#Section91)</br>\n",
    "- 9.2 [**Actionable Insights**](#Section91)</br>\n",
    "\n",
    "---"
   ]
  },
  {
   "cell_type": "markdown",
   "metadata": {
    "colab_type": "text",
    "id": "iACv_4iIoaLi"
   },
   "source": [
    "---\n",
    "<a name = Section1></a>\n",
    "# **1. Introduction**\n",
    "---\n",
    "\n",
    "- Facebook ia an oldest and widest reaching social network around, Facebook boasts a staggering number nearly of 2.8 billion monthly active Users\n",
    "- When creating an effective facebook marketing stratergy, brand must understand who is on the platform and how they are using it"
   ]
  },
  {
   "cell_type": "markdown",
   "metadata": {
    "colab_type": "text",
    "id": "sOGJAM3AoePy"
   },
   "source": [
    "---\n",
    "<a name = Section2></a>\n",
    "# **2. Problem Statement**\n",
    "---\n",
    "\n",
    "\n",
    "  - This era has been under the influence of rapid development for the past few years.\n",
    "\n",
    "  - Most of the time social applications fails to stay up to date, resulting in great loss to the company.\n",
    "\n",
    "  - Unlike any other incorporation, Facebook has become quite popular in the past few years, more specifically since 2005.\n",
    "\n",
    "  - People from all over the world are still using it as a medium to share their thoughts and feelings among others.\n",
    "\n",
    "  - With the rise in the popularity of the application it is very necessary to stay updated and they are trying really hard...\n",
    "  \n",
    "<p align=\"center\"><img src=\"https://chi2016.acm.org/wp/wp-content/uploads/2016/02/Facebook-06-2015-Blue.png\"></p>\n",
    "\n",
    "\n",
    "\n",
    "- ** Scenario:**\n",
    "  - Facebook, Inc. is an American social media conglomerate corporation, founded on February, 2004 by Mark Zuckerberg.\n",
    "\n",
    "  - People from all age groups are connected with each other through facebook.\n",
    "\n",
    "  - However, there are certain differences in the way of using it, let's say sending friend requests, sending likes, comments etc.\n",
    "\n",
    "  - Let's say they want to study and analyze these differences and identify the pattern out of it.\n",
    "\n",
    "  - This is result will help the company to utilize these patterns in the next set of iteration development.\n",
    "\n",
    "  - Maybe this hidden pattern could end up improving their application and the user experience.\n",
    "\n",
    "  - To tackle this problem they hired a genius team of data scientists. Consider you are one of them..."
   ]
  },
  {
   "cell_type": "markdown",
   "metadata": {
    "colab_type": "text",
    "id": "yzSAH3m9pLWi"
   },
   "source": [
    "---\n",
    "<a id = Section3></a>\n",
    "# **3. Installing & Importing Libraries**\n",
    "---\n",
    "\n",
    "- This section is emphasised on installing and importing the necessary libraries that will be required."
   ]
  },
  {
   "cell_type": "markdown",
   "metadata": {
    "colab_type": "text",
    "id": "M0y7joFPpOuQ"
   },
   "source": [
    "### **Installing Libraries**"
   ]
  },
  {
   "cell_type": "code",
   "execution_count": null,
   "metadata": {
    "colab": {},
    "colab_type": "code",
    "id": "S3pqantTnmxX"
   },
   "outputs": [],
   "source": [
    "!pip install -q datascience                                         # Package that is required by pandas profiling\n",
    "!pip install -q pandas-profiling                                    # Library to generate basic statistics about data\n",
    "# To install more libraries insert your code here.."
   ]
  },
  {
   "cell_type": "markdown",
   "metadata": {
    "colab_type": "text",
    "id": "pYQrkcl4pe8J"
   },
   "source": [
    "### **Upgrading Libraries**\n",
    "\n",
    "- **After upgrading** the libraries, you need to **restart the runtime** to make the libraries in sync.\n",
    "\n",
    "- Make sure not to execute the cell under Installing Libraries and Upgrading Libraries again after restarting the runtime."
   ]
  },
  {
   "cell_type": "code",
   "execution_count": null,
   "metadata": {
    "colab": {},
    "colab_type": "code",
    "id": "dmiiVvd-phhY"
   },
   "outputs": [],
   "source": [
    "!pip install -q --upgrade pandas-profiling                          # Upgrading pandas profiling to the latest version"
   ]
  },
  {
   "cell_type": "markdown",
   "metadata": {
    "colab_type": "text",
    "id": "PbyRyjDhpoJj"
   },
   "source": [
    "### **Importing Libraries**\n",
    "\n",
    "- You can headstart with the basic libraries as imported inside the cell below.\n",
    "\n",
    "- If you want to import some additional libraries, feel free to do so.\n"
   ]
  },
  {
   "cell_type": "code",
   "execution_count": 5,
   "metadata": {
    "colab": {},
    "colab_type": "code",
    "id": "5RapekFlpptb"
   },
   "outputs": [],
   "source": [
    "#-------------------------------------------------------------------------------------------------------------------------------\n",
    "import pandas as pd                                                 # Importing package pandas (For Panel Data Analysis)\n",
    "from pandas_profiling import ProfileReport                          # Import Pandas Profiling (To generate Univariate Analysis)\n",
    "#-------------------------------------------------------------------------------------------------------------------------------\n",
    "import numpy as np                                                  # Importing package numpys (For Numerical Python)\n",
    "#-------------------------------------------------------------------------------------------------------------------------------\n",
    "import matplotlib.pyplot as plt                                     # Importing pyplot interface to use matplotlib\n",
    "import seaborn as sns                                               # Importing seaborn library for interactive visualization\n",
    "%matplotlib inline\n",
    "#-------------------------------------------------------------------------------------------------------------------------------\n",
    "import scipy as sp                                                  # Importing library for scientific calculations\n",
    "#-------------------------------------------------------------------------------------------------------------------------------"
   ]
  },
  {
   "cell_type": "markdown",
   "metadata": {
    "colab_type": "text",
    "id": "ys9Qb4OlpzvZ"
   },
   "source": [
    "---\n",
    "<a name = Section4></a>\n",
    "# **4. Data Acquisition & Description**\n",
    "---\n",
    "\n",
    "- This section is emphasised on the accquiring the data and obtain some descriptive information out of it.\n",
    "\n",
    "- You could either scrap the data and then continue, or use a direct source of link (generally preferred in most cases).\n",
    "\n",
    "- You will be working with a direct source of link to head start your work without worrying about anything.\n",
    "\n",
    "- Before going further you must have a good idea about the features of the data set:\n",
    "\n",
    "|Id|Feature|Description|\n",
    "|:--|:--|:--|\n",
    "|01| userid                 | A numeric value uniquely identifying the user.|\n",
    "|02| age                    | Age of the user in years.|\n",
    "|03| dob_day                | Day part of the user's date of birth.|\n",
    "|04| dob_year               | Year part of the user's date of birth.| \n",
    "|05| dob_month              | Month part of the user's date of birth.|\n",
    "|06| gender                 | Gender of the user.| \n",
    "|07| tenure                 | Number of days since the user has been on FB.|\n",
    "|08| friend_count           | Number of friends the user has.|\n",
    "|09| friendships_initiated  | Number of friendships initiated by the user.|\n",
    "|10| likes                  | Total number of posts liked by the user.|\n",
    "|11| likes_received         | Total Number of likes received by user's posts.|\n",
    "|12| mobile_likes           | Number of posts liked by the user through mobile app.|\n",
    "|13| mobile_likes_received  | Number of likes received by user through mobile app.|\n",
    "|14| www_likes              | Number of posts liked by the user through web.|\n",
    "|15| www_likes_received     | Number of likes received by user  through web.| \n"
   ]
  },
  {
   "cell_type": "code",
   "execution_count": 6,
   "metadata": {
    "colab": {
     "base_uri": "https://localhost:8080/",
     "height": 241
    },
    "colab_type": "code",
    "executionInfo": {
     "elapsed": 2545,
     "status": "ok",
     "timestamp": 1600335417318,
     "user": {
      "displayName": "Mukesh Kumar",
      "photoUrl": "",
      "userId": "01238672520445611335"
     },
     "user_tz": -330
    },
    "id": "aXPrewndpw1T",
    "outputId": "ac37750c-ec12-473e-c6ad-7dc76cb76176"
   },
   "outputs": [
    {
     "name": "stdout",
     "output_type": "stream",
     "text": [
      "Data Shape: (99003, 15)\n"
     ]
    },
    {
     "data": {
      "text/html": [
       "<div>\n",
       "<style scoped>\n",
       "    .dataframe tbody tr th:only-of-type {\n",
       "        vertical-align: middle;\n",
       "    }\n",
       "\n",
       "    .dataframe tbody tr th {\n",
       "        vertical-align: top;\n",
       "    }\n",
       "\n",
       "    .dataframe thead th {\n",
       "        text-align: right;\n",
       "    }\n",
       "</style>\n",
       "<table border=\"1\" class=\"dataframe\">\n",
       "  <thead>\n",
       "    <tr style=\"text-align: right;\">\n",
       "      <th></th>\n",
       "      <th>userid</th>\n",
       "      <th>age</th>\n",
       "      <th>dob_day</th>\n",
       "      <th>dob_year</th>\n",
       "      <th>dob_month</th>\n",
       "      <th>gender</th>\n",
       "      <th>tenure</th>\n",
       "      <th>friend_count</th>\n",
       "      <th>friendships_initiated</th>\n",
       "      <th>likes</th>\n",
       "      <th>likes_received</th>\n",
       "      <th>mobile_likes</th>\n",
       "      <th>mobile_likes_received</th>\n",
       "      <th>www_likes</th>\n",
       "      <th>www_likes_received</th>\n",
       "    </tr>\n",
       "  </thead>\n",
       "  <tbody>\n",
       "    <tr>\n",
       "      <th>0</th>\n",
       "      <td>2094382</td>\n",
       "      <td>14</td>\n",
       "      <td>19</td>\n",
       "      <td>1999</td>\n",
       "      <td>11</td>\n",
       "      <td>male</td>\n",
       "      <td>266.0</td>\n",
       "      <td>0</td>\n",
       "      <td>0</td>\n",
       "      <td>0</td>\n",
       "      <td>0</td>\n",
       "      <td>0</td>\n",
       "      <td>0</td>\n",
       "      <td>0</td>\n",
       "      <td>0</td>\n",
       "    </tr>\n",
       "    <tr>\n",
       "      <th>1</th>\n",
       "      <td>1192601</td>\n",
       "      <td>14</td>\n",
       "      <td>2</td>\n",
       "      <td>1999</td>\n",
       "      <td>11</td>\n",
       "      <td>female</td>\n",
       "      <td>6.0</td>\n",
       "      <td>0</td>\n",
       "      <td>0</td>\n",
       "      <td>0</td>\n",
       "      <td>0</td>\n",
       "      <td>0</td>\n",
       "      <td>0</td>\n",
       "      <td>0</td>\n",
       "      <td>0</td>\n",
       "    </tr>\n",
       "    <tr>\n",
       "      <th>2</th>\n",
       "      <td>2083884</td>\n",
       "      <td>14</td>\n",
       "      <td>16</td>\n",
       "      <td>1999</td>\n",
       "      <td>11</td>\n",
       "      <td>male</td>\n",
       "      <td>13.0</td>\n",
       "      <td>0</td>\n",
       "      <td>0</td>\n",
       "      <td>0</td>\n",
       "      <td>0</td>\n",
       "      <td>0</td>\n",
       "      <td>0</td>\n",
       "      <td>0</td>\n",
       "      <td>0</td>\n",
       "    </tr>\n",
       "    <tr>\n",
       "      <th>3</th>\n",
       "      <td>1203168</td>\n",
       "      <td>14</td>\n",
       "      <td>25</td>\n",
       "      <td>1999</td>\n",
       "      <td>12</td>\n",
       "      <td>female</td>\n",
       "      <td>93.0</td>\n",
       "      <td>0</td>\n",
       "      <td>0</td>\n",
       "      <td>0</td>\n",
       "      <td>0</td>\n",
       "      <td>0</td>\n",
       "      <td>0</td>\n",
       "      <td>0</td>\n",
       "      <td>0</td>\n",
       "    </tr>\n",
       "    <tr>\n",
       "      <th>4</th>\n",
       "      <td>1733186</td>\n",
       "      <td>14</td>\n",
       "      <td>4</td>\n",
       "      <td>1999</td>\n",
       "      <td>12</td>\n",
       "      <td>male</td>\n",
       "      <td>82.0</td>\n",
       "      <td>0</td>\n",
       "      <td>0</td>\n",
       "      <td>0</td>\n",
       "      <td>0</td>\n",
       "      <td>0</td>\n",
       "      <td>0</td>\n",
       "      <td>0</td>\n",
       "      <td>0</td>\n",
       "    </tr>\n",
       "  </tbody>\n",
       "</table>\n",
       "</div>"
      ],
      "text/plain": [
       "    userid  age  dob_day  dob_year  dob_month  gender  tenure  friend_count  \\\n",
       "0  2094382   14       19      1999         11    male   266.0             0   \n",
       "1  1192601   14        2      1999         11  female     6.0             0   \n",
       "2  2083884   14       16      1999         11    male    13.0             0   \n",
       "3  1203168   14       25      1999         12  female    93.0             0   \n",
       "4  1733186   14        4      1999         12    male    82.0             0   \n",
       "\n",
       "   friendships_initiated  likes  likes_received  mobile_likes  \\\n",
       "0                      0      0               0             0   \n",
       "1                      0      0               0             0   \n",
       "2                      0      0               0             0   \n",
       "3                      0      0               0             0   \n",
       "4                      0      0               0             0   \n",
       "\n",
       "   mobile_likes_received  www_likes  www_likes_received  \n",
       "0                      0          0                   0  \n",
       "1                      0          0                   0  \n",
       "2                      0          0                   0  \n",
       "3                      0          0                   0  \n",
       "4                      0          0                   0  "
      ]
     },
     "execution_count": 6,
     "metadata": {},
     "output_type": "execute_result"
    }
   ],
   "source": [
    "data = pd.read_csv(filepath_or_buffer = 'https://raw.githubusercontent.com/insaid2018/Term-1/master/Data/Projects/facebook_data.csv')\n",
    "print('Data Shape:', data.shape)\n",
    "data.head()"
   ]
  },
  {
   "cell_type": "markdown",
   "metadata": {
    "colab_type": "text",
    "id": "FfkdFrL_qMPn"
   },
   "source": [
    "### **Data Description**\n",
    "\n",
    "- To get some quick description out of the data you can use describe method defined in pandas library."
   ]
  },
  {
   "cell_type": "code",
   "execution_count": 3,
   "metadata": {
    "colab": {},
    "colab_type": "code",
    "id": "cLs4jsSuqJjC"
   },
   "outputs": [
    {
     "data": {
      "text/html": [
       "<div>\n",
       "<style scoped>\n",
       "    .dataframe tbody tr th:only-of-type {\n",
       "        vertical-align: middle;\n",
       "    }\n",
       "\n",
       "    .dataframe tbody tr th {\n",
       "        vertical-align: top;\n",
       "    }\n",
       "\n",
       "    .dataframe thead th {\n",
       "        text-align: right;\n",
       "    }\n",
       "</style>\n",
       "<table border=\"1\" class=\"dataframe\">\n",
       "  <thead>\n",
       "    <tr style=\"text-align: right;\">\n",
       "      <th></th>\n",
       "      <th>userid</th>\n",
       "      <th>age</th>\n",
       "      <th>dob_day</th>\n",
       "      <th>dob_year</th>\n",
       "      <th>dob_month</th>\n",
       "      <th>tenure</th>\n",
       "      <th>friend_count</th>\n",
       "      <th>friendships_initiated</th>\n",
       "      <th>likes</th>\n",
       "      <th>likes_received</th>\n",
       "      <th>mobile_likes</th>\n",
       "      <th>mobile_likes_received</th>\n",
       "      <th>www_likes</th>\n",
       "      <th>www_likes_received</th>\n",
       "    </tr>\n",
       "  </thead>\n",
       "  <tbody>\n",
       "    <tr>\n",
       "      <th>count</th>\n",
       "      <td>9.900300e+04</td>\n",
       "      <td>99003.000000</td>\n",
       "      <td>99003.000000</td>\n",
       "      <td>99003.000000</td>\n",
       "      <td>99003.000000</td>\n",
       "      <td>99001.000000</td>\n",
       "      <td>99003.000000</td>\n",
       "      <td>99003.000000</td>\n",
       "      <td>99003.000000</td>\n",
       "      <td>99003.000000</td>\n",
       "      <td>99003.000000</td>\n",
       "      <td>99003.000000</td>\n",
       "      <td>99003.000000</td>\n",
       "      <td>99003.000000</td>\n",
       "    </tr>\n",
       "    <tr>\n",
       "      <th>mean</th>\n",
       "      <td>1.597045e+06</td>\n",
       "      <td>37.280224</td>\n",
       "      <td>14.530408</td>\n",
       "      <td>1975.719776</td>\n",
       "      <td>6.283365</td>\n",
       "      <td>537.887375</td>\n",
       "      <td>196.350787</td>\n",
       "      <td>107.452471</td>\n",
       "      <td>156.078785</td>\n",
       "      <td>142.689363</td>\n",
       "      <td>106.116300</td>\n",
       "      <td>84.120491</td>\n",
       "      <td>49.962425</td>\n",
       "      <td>58.568831</td>\n",
       "    </tr>\n",
       "    <tr>\n",
       "      <th>std</th>\n",
       "      <td>3.440592e+05</td>\n",
       "      <td>22.589748</td>\n",
       "      <td>9.015606</td>\n",
       "      <td>22.589748</td>\n",
       "      <td>3.529672</td>\n",
       "      <td>457.649874</td>\n",
       "      <td>387.304229</td>\n",
       "      <td>188.786951</td>\n",
       "      <td>572.280681</td>\n",
       "      <td>1387.919613</td>\n",
       "      <td>445.252985</td>\n",
       "      <td>839.889444</td>\n",
       "      <td>285.560152</td>\n",
       "      <td>601.416348</td>\n",
       "    </tr>\n",
       "    <tr>\n",
       "      <th>min</th>\n",
       "      <td>1.000008e+06</td>\n",
       "      <td>13.000000</td>\n",
       "      <td>1.000000</td>\n",
       "      <td>1900.000000</td>\n",
       "      <td>1.000000</td>\n",
       "      <td>0.000000</td>\n",
       "      <td>0.000000</td>\n",
       "      <td>0.000000</td>\n",
       "      <td>0.000000</td>\n",
       "      <td>0.000000</td>\n",
       "      <td>0.000000</td>\n",
       "      <td>0.000000</td>\n",
       "      <td>0.000000</td>\n",
       "      <td>0.000000</td>\n",
       "    </tr>\n",
       "    <tr>\n",
       "      <th>25%</th>\n",
       "      <td>1.298806e+06</td>\n",
       "      <td>20.000000</td>\n",
       "      <td>7.000000</td>\n",
       "      <td>1963.000000</td>\n",
       "      <td>3.000000</td>\n",
       "      <td>226.000000</td>\n",
       "      <td>31.000000</td>\n",
       "      <td>17.000000</td>\n",
       "      <td>1.000000</td>\n",
       "      <td>1.000000</td>\n",
       "      <td>0.000000</td>\n",
       "      <td>0.000000</td>\n",
       "      <td>0.000000</td>\n",
       "      <td>0.000000</td>\n",
       "    </tr>\n",
       "    <tr>\n",
       "      <th>50%</th>\n",
       "      <td>1.596148e+06</td>\n",
       "      <td>28.000000</td>\n",
       "      <td>14.000000</td>\n",
       "      <td>1985.000000</td>\n",
       "      <td>6.000000</td>\n",
       "      <td>412.000000</td>\n",
       "      <td>82.000000</td>\n",
       "      <td>46.000000</td>\n",
       "      <td>11.000000</td>\n",
       "      <td>8.000000</td>\n",
       "      <td>4.000000</td>\n",
       "      <td>4.000000</td>\n",
       "      <td>0.000000</td>\n",
       "      <td>2.000000</td>\n",
       "    </tr>\n",
       "    <tr>\n",
       "      <th>75%</th>\n",
       "      <td>1.895744e+06</td>\n",
       "      <td>50.000000</td>\n",
       "      <td>22.000000</td>\n",
       "      <td>1993.000000</td>\n",
       "      <td>9.000000</td>\n",
       "      <td>675.000000</td>\n",
       "      <td>206.000000</td>\n",
       "      <td>117.000000</td>\n",
       "      <td>81.000000</td>\n",
       "      <td>59.000000</td>\n",
       "      <td>46.000000</td>\n",
       "      <td>33.000000</td>\n",
       "      <td>7.000000</td>\n",
       "      <td>20.000000</td>\n",
       "    </tr>\n",
       "    <tr>\n",
       "      <th>max</th>\n",
       "      <td>2.193542e+06</td>\n",
       "      <td>113.000000</td>\n",
       "      <td>31.000000</td>\n",
       "      <td>2000.000000</td>\n",
       "      <td>12.000000</td>\n",
       "      <td>3139.000000</td>\n",
       "      <td>4923.000000</td>\n",
       "      <td>4144.000000</td>\n",
       "      <td>25111.000000</td>\n",
       "      <td>261197.000000</td>\n",
       "      <td>25111.000000</td>\n",
       "      <td>138561.000000</td>\n",
       "      <td>14865.000000</td>\n",
       "      <td>129953.000000</td>\n",
       "    </tr>\n",
       "  </tbody>\n",
       "</table>\n",
       "</div>"
      ],
      "text/plain": [
       "             userid           age       dob_day      dob_year     dob_month  \\\n",
       "count  9.900300e+04  99003.000000  99003.000000  99003.000000  99003.000000   \n",
       "mean   1.597045e+06     37.280224     14.530408   1975.719776      6.283365   \n",
       "std    3.440592e+05     22.589748      9.015606     22.589748      3.529672   \n",
       "min    1.000008e+06     13.000000      1.000000   1900.000000      1.000000   \n",
       "25%    1.298806e+06     20.000000      7.000000   1963.000000      3.000000   \n",
       "50%    1.596148e+06     28.000000     14.000000   1985.000000      6.000000   \n",
       "75%    1.895744e+06     50.000000     22.000000   1993.000000      9.000000   \n",
       "max    2.193542e+06    113.000000     31.000000   2000.000000     12.000000   \n",
       "\n",
       "             tenure  friend_count  friendships_initiated         likes  \\\n",
       "count  99001.000000  99003.000000           99003.000000  99003.000000   \n",
       "mean     537.887375    196.350787             107.452471    156.078785   \n",
       "std      457.649874    387.304229             188.786951    572.280681   \n",
       "min        0.000000      0.000000               0.000000      0.000000   \n",
       "25%      226.000000     31.000000              17.000000      1.000000   \n",
       "50%      412.000000     82.000000              46.000000     11.000000   \n",
       "75%      675.000000    206.000000             117.000000     81.000000   \n",
       "max     3139.000000   4923.000000            4144.000000  25111.000000   \n",
       "\n",
       "       likes_received  mobile_likes  mobile_likes_received     www_likes  \\\n",
       "count    99003.000000  99003.000000           99003.000000  99003.000000   \n",
       "mean       142.689363    106.116300              84.120491     49.962425   \n",
       "std       1387.919613    445.252985             839.889444    285.560152   \n",
       "min          0.000000      0.000000               0.000000      0.000000   \n",
       "25%          1.000000      0.000000               0.000000      0.000000   \n",
       "50%          8.000000      4.000000               4.000000      0.000000   \n",
       "75%         59.000000     46.000000              33.000000      7.000000   \n",
       "max     261197.000000  25111.000000          138561.000000  14865.000000   \n",
       "\n",
       "       www_likes_received  \n",
       "count        99003.000000  \n",
       "mean            58.568831  \n",
       "std            601.416348  \n",
       "min              0.000000  \n",
       "25%              0.000000  \n",
       "50%              2.000000  \n",
       "75%             20.000000  \n",
       "max         129953.000000  "
      ]
     },
     "execution_count": 3,
     "metadata": {},
     "output_type": "execute_result"
    }
   ],
   "source": [
    "data.describe()"
   ]
  },
  {
   "cell_type": "markdown",
   "metadata": {},
   "source": [
    "**Observations:**\n",
    "\n",
    "- The **age** of the Facebook users are ranging from **13 years** to **113** years.\n",
    "\n",
    "- The Users birth year is ranging from **1900** to **2000**.\n",
    "\n",
    "- Average tenure of Facebook users is **537 days** with min of **0 days** to **3139 days**.\n",
    "\n",
    "- Average friend counts is **196** with minimum count a **0** and maximum of **4923**.\n"
   ]
  },
  {
   "cell_type": "markdown",
   "metadata": {
    "colab_type": "text",
    "id": "lM-hljKpqXsp"
   },
   "source": [
    "### **Data Information**"
   ]
  },
  {
   "cell_type": "code",
   "execution_count": 9,
   "metadata": {
    "colab": {},
    "colab_type": "code",
    "id": "aPYZy6voqXc4"
   },
   "outputs": [
    {
     "name": "stdout",
     "output_type": "stream",
     "text": [
      "<class 'pandas.core.frame.DataFrame'>\n",
      "RangeIndex: 99003 entries, 0 to 99002\n",
      "Data columns (total 15 columns):\n",
      " #   Column                 Non-Null Count  Dtype  \n",
      "---  ------                 --------------  -----  \n",
      " 0   userid                 99003 non-null  int64  \n",
      " 1   age                    99003 non-null  int64  \n",
      " 2   dob_day                99003 non-null  int64  \n",
      " 3   dob_year               99003 non-null  int64  \n",
      " 4   dob_month              99003 non-null  int64  \n",
      " 5   gender                 98828 non-null  object \n",
      " 6   tenure                 99001 non-null  float64\n",
      " 7   friend_count           99003 non-null  int64  \n",
      " 8   friendships_initiated  99003 non-null  int64  \n",
      " 9   likes                  99003 non-null  int64  \n",
      " 10  likes_received         99003 non-null  int64  \n",
      " 11  mobile_likes           99003 non-null  int64  \n",
      " 12  mobile_likes_received  99003 non-null  int64  \n",
      " 13  www_likes              99003 non-null  int64  \n",
      " 14  www_likes_received     99003 non-null  int64  \n",
      "dtypes: float64(1), int64(13), object(1)\n",
      "memory usage: 11.0+ MB\n"
     ]
    }
   ],
   "source": [
    "data.info()"
   ]
  },
  {
   "cell_type": "markdown",
   "metadata": {},
   "source": [
    "**Observations:**\n",
    "\n",
    "- The dataset has **99003** Facebook users data and **15** various attributes of the Users.\n",
    "\n",
    "- The **Gender** and **Tenure** column has missing values. Needs to be corrected.\n"
   ]
  },
  {
   "cell_type": "markdown",
   "metadata": {
    "colab_type": "text",
    "id": "efZ8svauqc55"
   },
   "source": [
    "---\n",
    "<a name = Section5></a>\n",
    "# **5. Data Pre-Profiling**\n",
    "---\n",
    "\n",
    "- This section is emphasised on getting a report about the data.\n",
    "\n",
    "- You need to perform pandas profiling and get some observations out of it..."
   ]
  },
  {
   "cell_type": "code",
   "execution_count": 13,
   "metadata": {
    "colab": {},
    "colab_type": "code",
    "id": "VEHxAq8Zqcgo"
   },
   "outputs": [
    {
     "data": {
      "text/plain": [
       "userid                     0\n",
       "age                        0\n",
       "dob_day                    0\n",
       "dob_year                   0\n",
       "dob_month                  0\n",
       "gender                   175\n",
       "tenure                     2\n",
       "friend_count               0\n",
       "friendships_initiated      0\n",
       "likes                      0\n",
       "likes_received             0\n",
       "mobile_likes               0\n",
       "mobile_likes_received      0\n",
       "www_likes                  0\n",
       "www_likes_received         0\n",
       "dtype: int64"
      ]
     },
     "execution_count": 13,
     "metadata": {},
     "output_type": "execute_result"
    }
   ],
   "source": [
    "# To check the missing values\n",
    "data.shape[0]-data.count() "
   ]
  },
  {
   "cell_type": "code",
   "execution_count": 14,
   "metadata": {},
   "outputs": [
    {
     "data": {
      "text/plain": [
       "False"
      ]
     },
     "execution_count": 14,
     "metadata": {},
     "output_type": "execute_result"
    }
   ],
   "source": [
    "#To check duplicate data\n",
    "data.duplicated().any()"
   ]
  },
  {
   "cell_type": "code",
   "execution_count": 15,
   "metadata": {},
   "outputs": [
    {
     "data": {
      "text/plain": [
       "male      58574\n",
       "female    40254\n",
       "Name: gender, dtype: int64"
      ]
     },
     "execution_count": 15,
     "metadata": {},
     "output_type": "execute_result"
    }
   ],
   "source": [
    "data['gender'].value_counts()"
   ]
  },
  {
   "cell_type": "code",
   "execution_count": 16,
   "metadata": {},
   "outputs": [
    {
     "name": "stderr",
     "output_type": "stream",
     "text": [
      "C:\\Users\\ADMIN\\anaconda3\\lib\\site-packages\\seaborn\\_decorators.py:36: FutureWarning: Pass the following variable as a keyword arg: x. From version 0.12, the only valid positional argument will be `data`, and passing other arguments without an explicit keyword will result in an error or misinterpretation.\n",
      "  warnings.warn(\n"
     ]
    },
    {
     "data": {
      "text/plain": [
       "<AxesSubplot:xlabel='age'>"
      ]
     },
     "execution_count": 16,
     "metadata": {},
     "output_type": "execute_result"
    },
    {
     "data": {
      "image/png": "[encoded data removed]",
      "text/plain": [
       "<Figure size 432x288 with 1 Axes>"
      ]
     },
     "metadata": {
      "needs_background": "light"
     },
     "output_type": "display_data"
    }
   ],
   "source": [
    "# To check outliers in age\n",
    "sns.boxplot(data['age'])\n",
    "#age has some outliers above 87 age. needs to be repalced"
   ]
  },
  {
   "cell_type": "markdown",
   "metadata": {},
   "source": [
    "**Observations:**\n",
    "\n",
    "- The **Gender** column has **175** missing values. \n",
    "- The **Tenure** column has **2** missing values.\n",
    "- The data set has **no duplicate** data.\n",
    "- The data set has **58574 Male users** and **40254 Female Users**.\n",
    "- The age of users rangin from **13 Years** to **113** years with its median at around **25 years**."
   ]
  },
  {
   "cell_type": "markdown",
   "metadata": {
    "colab_type": "text",
    "id": "YMvtK0X-qoe6"
   },
   "source": [
    "---\n",
    "<a name = Section6></a>\n",
    "# **6. Data Pre-Processing**\n",
    "---\n",
    "\n",
    "- This section is emphasised on performing data manipulation over unstructured data for further processing and analysis.\n",
    "\n",
    "- To modify unstructured data to strucuted data you need to verify and manipulate the integrity of the data by:\n",
    "  - Handling missing data,\n",
    "\n",
    "  - Handling redundant data,\n",
    "\n",
    "  - Handling inconsistent data,\n",
    "\n",
    "  - Handling outliers,\n",
    "\n",
    "  - Handling typos"
   ]
  },
  {
   "cell_type": "code",
   "execution_count": 7,
   "metadata": {
    "colab": {},
    "colab_type": "code",
    "id": "FxzbSzWDqytZ"
   },
   "outputs": [],
   "source": [
    "# To replace missing values with their mode for Gender and tenure\n",
    "data['gender'] = data['gender'].replace(np.nan, data['gender'].mode()[0])\n",
    "data['tenure'] = data['tenure'].replace(np.nan, data['tenure'].mode()[0])"
   ]
  },
  {
   "cell_type": "markdown",
   "metadata": {},
   "source": [
    "**Observations:**\n",
    "\n",
    "- The missing values in **Gender** and **tenure** column has been replaced by its **Mode**. \n"
   ]
  },
  {
   "cell_type": "markdown",
   "metadata": {
    "colab_type": "text",
    "id": "amsQwri2q1_J"
   },
   "source": [
    "---\n",
    "<a name = Section7></a>\n",
    "# **7. Data Post-Profiling**\n",
    "---\n",
    "\n",
    "- This section is emphasised on getting a report about the data after the data manipulation.\n",
    "\n",
    "- You may end up observing some new changes, so keep it under check and make right observations."
   ]
  },
  {
   "cell_type": "code",
   "execution_count": 128,
   "metadata": {
    "colab": {},
    "colab_type": "code",
    "id": "87U7K8sWq1y5"
   },
   "outputs": [
    {
     "data": {
      "text/plain": [
       "userid                   0\n",
       "age                      0\n",
       "dob_day                  0\n",
       "dob_year                 0\n",
       "dob_month                0\n",
       "gender                   0\n",
       "tenure                   0\n",
       "friend_count             0\n",
       "friendships_initiated    0\n",
       "likes                    0\n",
       "likes_received           0\n",
       "mobile_likes             0\n",
       "mobile_likes_received    0\n",
       "www_likes                0\n",
       "www_likes_received       0\n",
       "dtype: int64"
      ]
     },
     "execution_count": 128,
     "metadata": {},
     "output_type": "execute_result"
    }
   ],
   "source": [
    "data.shape[0]-data.count()"
   ]
  },
  {
   "cell_type": "markdown",
   "metadata": {},
   "source": [
    "**Observations:**\n",
    "\n",
    "- No missing values in the data set now after all pre-processing of data set. "
   ]
  },
  {
   "cell_type": "markdown",
   "metadata": {
    "colab_type": "text",
    "id": "taDvvLa9q-5p"
   },
   "source": [
    "---\n",
    "<a name = Section8></a>\n",
    "# **8. Exploratory Data Analysis**\n",
    "---\n",
    "\n",
    "- This section is emphasised on asking the right questions and perform analysis using the data.\n",
    "\n",
    "- Note that there is no limit how deep you can go, but make sure not to get distracted from right track."
   ]
  },
  {
   "cell_type": "code",
   "execution_count": 9,
   "metadata": {},
   "outputs": [
    {
     "data": {
      "text/html": [
       "<div>\n",
       "<style scoped>\n",
       "    .dataframe tbody tr th:only-of-type {\n",
       "        vertical-align: middle;\n",
       "    }\n",
       "\n",
       "    .dataframe tbody tr th {\n",
       "        vertical-align: top;\n",
       "    }\n",
       "\n",
       "    .dataframe thead th {\n",
       "        text-align: right;\n",
       "    }\n",
       "</style>\n",
       "<table border=\"1\" class=\"dataframe\">\n",
       "  <thead>\n",
       "    <tr style=\"text-align: right;\">\n",
       "      <th></th>\n",
       "      <th>userid</th>\n",
       "      <th>age</th>\n",
       "      <th>dob_day</th>\n",
       "      <th>dob_year</th>\n",
       "      <th>dob_month</th>\n",
       "      <th>gender</th>\n",
       "      <th>tenure</th>\n",
       "      <th>friend_count</th>\n",
       "      <th>friendships_initiated</th>\n",
       "      <th>likes</th>\n",
       "      <th>likes_received</th>\n",
       "      <th>mobile_likes</th>\n",
       "      <th>mobile_likes_received</th>\n",
       "      <th>www_likes</th>\n",
       "      <th>www_likes_received</th>\n",
       "      <th>age cat</th>\n",
       "    </tr>\n",
       "  </thead>\n",
       "  <tbody>\n",
       "    <tr>\n",
       "      <th>0</th>\n",
       "      <td>2094382</td>\n",
       "      <td>14</td>\n",
       "      <td>19</td>\n",
       "      <td>1999</td>\n",
       "      <td>11</td>\n",
       "      <td>male</td>\n",
       "      <td>266.0</td>\n",
       "      <td>0</td>\n",
       "      <td>0</td>\n",
       "      <td>0</td>\n",
       "      <td>0</td>\n",
       "      <td>0</td>\n",
       "      <td>0</td>\n",
       "      <td>0</td>\n",
       "      <td>0</td>\n",
       "      <td>Teenager</td>\n",
       "    </tr>\n",
       "    <tr>\n",
       "      <th>1</th>\n",
       "      <td>1192601</td>\n",
       "      <td>14</td>\n",
       "      <td>2</td>\n",
       "      <td>1999</td>\n",
       "      <td>11</td>\n",
       "      <td>female</td>\n",
       "      <td>6.0</td>\n",
       "      <td>0</td>\n",
       "      <td>0</td>\n",
       "      <td>0</td>\n",
       "      <td>0</td>\n",
       "      <td>0</td>\n",
       "      <td>0</td>\n",
       "      <td>0</td>\n",
       "      <td>0</td>\n",
       "      <td>Teenager</td>\n",
       "    </tr>\n",
       "    <tr>\n",
       "      <th>2</th>\n",
       "      <td>2083884</td>\n",
       "      <td>14</td>\n",
       "      <td>16</td>\n",
       "      <td>1999</td>\n",
       "      <td>11</td>\n",
       "      <td>male</td>\n",
       "      <td>13.0</td>\n",
       "      <td>0</td>\n",
       "      <td>0</td>\n",
       "      <td>0</td>\n",
       "      <td>0</td>\n",
       "      <td>0</td>\n",
       "      <td>0</td>\n",
       "      <td>0</td>\n",
       "      <td>0</td>\n",
       "      <td>Teenager</td>\n",
       "    </tr>\n",
       "    <tr>\n",
       "      <th>3</th>\n",
       "      <td>1203168</td>\n",
       "      <td>14</td>\n",
       "      <td>25</td>\n",
       "      <td>1999</td>\n",
       "      <td>12</td>\n",
       "      <td>female</td>\n",
       "      <td>93.0</td>\n",
       "      <td>0</td>\n",
       "      <td>0</td>\n",
       "      <td>0</td>\n",
       "      <td>0</td>\n",
       "      <td>0</td>\n",
       "      <td>0</td>\n",
       "      <td>0</td>\n",
       "      <td>0</td>\n",
       "      <td>Teenager</td>\n",
       "    </tr>\n",
       "    <tr>\n",
       "      <th>4</th>\n",
       "      <td>1733186</td>\n",
       "      <td>14</td>\n",
       "      <td>4</td>\n",
       "      <td>1999</td>\n",
       "      <td>12</td>\n",
       "      <td>male</td>\n",
       "      <td>82.0</td>\n",
       "      <td>0</td>\n",
       "      <td>0</td>\n",
       "      <td>0</td>\n",
       "      <td>0</td>\n",
       "      <td>0</td>\n",
       "      <td>0</td>\n",
       "      <td>0</td>\n",
       "      <td>0</td>\n",
       "      <td>Teenager</td>\n",
       "    </tr>\n",
       "    <tr>\n",
       "      <th>...</th>\n",
       "      <td>...</td>\n",
       "      <td>...</td>\n",
       "      <td>...</td>\n",
       "      <td>...</td>\n",
       "      <td>...</td>\n",
       "      <td>...</td>\n",
       "      <td>...</td>\n",
       "      <td>...</td>\n",
       "      <td>...</td>\n",
       "      <td>...</td>\n",
       "      <td>...</td>\n",
       "      <td>...</td>\n",
       "      <td>...</td>\n",
       "      <td>...</td>\n",
       "      <td>...</td>\n",
       "      <td>...</td>\n",
       "    </tr>\n",
       "    <tr>\n",
       "      <th>98998</th>\n",
       "      <td>1268299</td>\n",
       "      <td>68</td>\n",
       "      <td>4</td>\n",
       "      <td>1945</td>\n",
       "      <td>4</td>\n",
       "      <td>female</td>\n",
       "      <td>541.0</td>\n",
       "      <td>2118</td>\n",
       "      <td>341</td>\n",
       "      <td>3996</td>\n",
       "      <td>18089</td>\n",
       "      <td>3505</td>\n",
       "      <td>11887</td>\n",
       "      <td>491</td>\n",
       "      <td>6202</td>\n",
       "      <td>Senior citizen</td>\n",
       "    </tr>\n",
       "    <tr>\n",
       "      <th>98999</th>\n",
       "      <td>1256153</td>\n",
       "      <td>18</td>\n",
       "      <td>12</td>\n",
       "      <td>1995</td>\n",
       "      <td>3</td>\n",
       "      <td>female</td>\n",
       "      <td>21.0</td>\n",
       "      <td>1968</td>\n",
       "      <td>1720</td>\n",
       "      <td>4401</td>\n",
       "      <td>13412</td>\n",
       "      <td>4399</td>\n",
       "      <td>10592</td>\n",
       "      <td>2</td>\n",
       "      <td>2820</td>\n",
       "      <td>Teenager</td>\n",
       "    </tr>\n",
       "    <tr>\n",
       "      <th>99000</th>\n",
       "      <td>1195943</td>\n",
       "      <td>15</td>\n",
       "      <td>10</td>\n",
       "      <td>1998</td>\n",
       "      <td>5</td>\n",
       "      <td>female</td>\n",
       "      <td>111.0</td>\n",
       "      <td>2002</td>\n",
       "      <td>1524</td>\n",
       "      <td>11959</td>\n",
       "      <td>12554</td>\n",
       "      <td>11959</td>\n",
       "      <td>11462</td>\n",
       "      <td>0</td>\n",
       "      <td>1092</td>\n",
       "      <td>Teenager</td>\n",
       "    </tr>\n",
       "    <tr>\n",
       "      <th>99001</th>\n",
       "      <td>1468023</td>\n",
       "      <td>23</td>\n",
       "      <td>11</td>\n",
       "      <td>1990</td>\n",
       "      <td>4</td>\n",
       "      <td>female</td>\n",
       "      <td>416.0</td>\n",
       "      <td>2560</td>\n",
       "      <td>185</td>\n",
       "      <td>4506</td>\n",
       "      <td>6516</td>\n",
       "      <td>4506</td>\n",
       "      <td>5760</td>\n",
       "      <td>0</td>\n",
       "      <td>756</td>\n",
       "      <td>Young Adult</td>\n",
       "    </tr>\n",
       "    <tr>\n",
       "      <th>99002</th>\n",
       "      <td>1397896</td>\n",
       "      <td>39</td>\n",
       "      <td>15</td>\n",
       "      <td>1974</td>\n",
       "      <td>5</td>\n",
       "      <td>female</td>\n",
       "      <td>397.0</td>\n",
       "      <td>2049</td>\n",
       "      <td>768</td>\n",
       "      <td>9410</td>\n",
       "      <td>12443</td>\n",
       "      <td>9410</td>\n",
       "      <td>9530</td>\n",
       "      <td>0</td>\n",
       "      <td>2913</td>\n",
       "      <td>Adult</td>\n",
       "    </tr>\n",
       "  </tbody>\n",
       "</table>\n",
       "<p>99003 rows × 16 columns</p>\n",
       "</div>"
      ],
      "text/plain": [
       "        userid  age  dob_day  dob_year  dob_month  gender  tenure  \\\n",
       "0      2094382   14       19      1999         11    male   266.0   \n",
       "1      1192601   14        2      1999         11  female     6.0   \n",
       "2      2083884   14       16      1999         11    male    13.0   \n",
       "3      1203168   14       25      1999         12  female    93.0   \n",
       "4      1733186   14        4      1999         12    male    82.0   \n",
       "...        ...  ...      ...       ...        ...     ...     ...   \n",
       "98998  1268299   68        4      1945          4  female   541.0   \n",
       "98999  1256153   18       12      1995          3  female    21.0   \n",
       "99000  1195943   15       10      1998          5  female   111.0   \n",
       "99001  1468023   23       11      1990          4  female   416.0   \n",
       "99002  1397896   39       15      1974          5  female   397.0   \n",
       "\n",
       "       friend_count  friendships_initiated  likes  likes_received  \\\n",
       "0                 0                      0      0               0   \n",
       "1                 0                      0      0               0   \n",
       "2                 0                      0      0               0   \n",
       "3                 0                      0      0               0   \n",
       "4                 0                      0      0               0   \n",
       "...             ...                    ...    ...             ...   \n",
       "98998          2118                    341   3996           18089   \n",
       "98999          1968                   1720   4401           13412   \n",
       "99000          2002                   1524  11959           12554   \n",
       "99001          2560                    185   4506            6516   \n",
       "99002          2049                    768   9410           12443   \n",
       "\n",
       "       mobile_likes  mobile_likes_received  www_likes  www_likes_received  \\\n",
       "0                 0                      0          0                   0   \n",
       "1                 0                      0          0                   0   \n",
       "2                 0                      0          0                   0   \n",
       "3                 0                      0          0                   0   \n",
       "4                 0                      0          0                   0   \n",
       "...             ...                    ...        ...                 ...   \n",
       "98998          3505                  11887        491                6202   \n",
       "98999          4399                  10592          2                2820   \n",
       "99000         11959                  11462          0                1092   \n",
       "99001          4506                   5760          0                 756   \n",
       "99002          9410                   9530          0                2913   \n",
       "\n",
       "              age cat  \n",
       "0            Teenager  \n",
       "1            Teenager  \n",
       "2            Teenager  \n",
       "3            Teenager  \n",
       "4            Teenager  \n",
       "...               ...  \n",
       "98998  Senior citizen  \n",
       "98999        Teenager  \n",
       "99000        Teenager  \n",
       "99001     Young Adult  \n",
       "99002           Adult  \n",
       "\n",
       "[99003 rows x 16 columns]"
      ]
     },
     "execution_count": 9,
     "metadata": {},
     "output_type": "execute_result"
    }
   ],
   "source": [
    "#To Create the age group into 5 categories\n",
    "filters= [(data.age<=18), ( data.age>18)& (data.age<=25), ( data.age>25)& (data.age<=60),(data.age>60)& (data.age<=80),(data.age>80)]\n",
    "values=[\"Teenager\",\"Young Adult\",\"Adult\",\"Senior citizen\",\"Super Sr Citizen\"]\n",
    "data['age cat']=np.select(filters,values)\n",
    "data"
   ]
  },
  {
   "cell_type": "markdown",
   "metadata": {},
   "source": [
    "**Observations:**\n",
    "\n",
    "- created new column by classifying the age group in **5 catergories** for the purpose of our **EDA**.\n",
    "- Age **Less than 18 years** as **Teenagers**, **Age between 18 to 25 years** as **Young Adults**, **25 to 60 years** as **Adults**, **60 to 80 years** as **Senior citizen** and **above 80 years** as **Super senior citizen**."
   ]
  },
  {
   "cell_type": "code",
   "execution_count": 10,
   "metadata": {},
   "outputs": [
    {
     "data": {
      "text/html": [
       "<div>\n",
       "<style scoped>\n",
       "    .dataframe tbody tr th:only-of-type {\n",
       "        vertical-align: middle;\n",
       "    }\n",
       "\n",
       "    .dataframe tbody tr th {\n",
       "        vertical-align: top;\n",
       "    }\n",
       "\n",
       "    .dataframe thead th {\n",
       "        text-align: right;\n",
       "    }\n",
       "</style>\n",
       "<table border=\"1\" class=\"dataframe\">\n",
       "  <thead>\n",
       "    <tr style=\"text-align: right;\">\n",
       "      <th></th>\n",
       "      <th>userid</th>\n",
       "      <th>age</th>\n",
       "      <th>dob_day</th>\n",
       "      <th>dob_year</th>\n",
       "      <th>dob_month</th>\n",
       "      <th>gender</th>\n",
       "      <th>tenure</th>\n",
       "      <th>friend_count</th>\n",
       "      <th>friendships_initiated</th>\n",
       "      <th>likes</th>\n",
       "      <th>likes_received</th>\n",
       "      <th>mobile_likes</th>\n",
       "      <th>mobile_likes_received</th>\n",
       "      <th>www_likes</th>\n",
       "      <th>www_likes_received</th>\n",
       "      <th>age cat</th>\n",
       "      <th>mobile</th>\n",
       "      <th>Web</th>\n",
       "      <th>preference</th>\n",
       "    </tr>\n",
       "  </thead>\n",
       "  <tbody>\n",
       "    <tr>\n",
       "      <th>0</th>\n",
       "      <td>2094382</td>\n",
       "      <td>14</td>\n",
       "      <td>19</td>\n",
       "      <td>1999</td>\n",
       "      <td>11</td>\n",
       "      <td>male</td>\n",
       "      <td>266.0</td>\n",
       "      <td>0</td>\n",
       "      <td>0</td>\n",
       "      <td>0</td>\n",
       "      <td>0</td>\n",
       "      <td>0</td>\n",
       "      <td>0</td>\n",
       "      <td>0</td>\n",
       "      <td>0</td>\n",
       "      <td>Teenager</td>\n",
       "      <td>0</td>\n",
       "      <td>0</td>\n",
       "      <td>Neutral</td>\n",
       "    </tr>\n",
       "    <tr>\n",
       "      <th>1</th>\n",
       "      <td>1192601</td>\n",
       "      <td>14</td>\n",
       "      <td>2</td>\n",
       "      <td>1999</td>\n",
       "      <td>11</td>\n",
       "      <td>female</td>\n",
       "      <td>6.0</td>\n",
       "      <td>0</td>\n",
       "      <td>0</td>\n",
       "      <td>0</td>\n",
       "      <td>0</td>\n",
       "      <td>0</td>\n",
       "      <td>0</td>\n",
       "      <td>0</td>\n",
       "      <td>0</td>\n",
       "      <td>Teenager</td>\n",
       "      <td>0</td>\n",
       "      <td>0</td>\n",
       "      <td>Neutral</td>\n",
       "    </tr>\n",
       "    <tr>\n",
       "      <th>2</th>\n",
       "      <td>2083884</td>\n",
       "      <td>14</td>\n",
       "      <td>16</td>\n",
       "      <td>1999</td>\n",
       "      <td>11</td>\n",
       "      <td>male</td>\n",
       "      <td>13.0</td>\n",
       "      <td>0</td>\n",
       "      <td>0</td>\n",
       "      <td>0</td>\n",
       "      <td>0</td>\n",
       "      <td>0</td>\n",
       "      <td>0</td>\n",
       "      <td>0</td>\n",
       "      <td>0</td>\n",
       "      <td>Teenager</td>\n",
       "      <td>0</td>\n",
       "      <td>0</td>\n",
       "      <td>Neutral</td>\n",
       "    </tr>\n",
       "    <tr>\n",
       "      <th>3</th>\n",
       "      <td>1203168</td>\n",
       "      <td>14</td>\n",
       "      <td>25</td>\n",
       "      <td>1999</td>\n",
       "      <td>12</td>\n",
       "      <td>female</td>\n",
       "      <td>93.0</td>\n",
       "      <td>0</td>\n",
       "      <td>0</td>\n",
       "      <td>0</td>\n",
       "      <td>0</td>\n",
       "      <td>0</td>\n",
       "      <td>0</td>\n",
       "      <td>0</td>\n",
       "      <td>0</td>\n",
       "      <td>Teenager</td>\n",
       "      <td>0</td>\n",
       "      <td>0</td>\n",
       "      <td>Neutral</td>\n",
       "    </tr>\n",
       "    <tr>\n",
       "      <th>4</th>\n",
       "      <td>1733186</td>\n",
       "      <td>14</td>\n",
       "      <td>4</td>\n",
       "      <td>1999</td>\n",
       "      <td>12</td>\n",
       "      <td>male</td>\n",
       "      <td>82.0</td>\n",
       "      <td>0</td>\n",
       "      <td>0</td>\n",
       "      <td>0</td>\n",
       "      <td>0</td>\n",
       "      <td>0</td>\n",
       "      <td>0</td>\n",
       "      <td>0</td>\n",
       "      <td>0</td>\n",
       "      <td>Teenager</td>\n",
       "      <td>0</td>\n",
       "      <td>0</td>\n",
       "      <td>Neutral</td>\n",
       "    </tr>\n",
       "    <tr>\n",
       "      <th>...</th>\n",
       "      <td>...</td>\n",
       "      <td>...</td>\n",
       "      <td>...</td>\n",
       "      <td>...</td>\n",
       "      <td>...</td>\n",
       "      <td>...</td>\n",
       "      <td>...</td>\n",
       "      <td>...</td>\n",
       "      <td>...</td>\n",
       "      <td>...</td>\n",
       "      <td>...</td>\n",
       "      <td>...</td>\n",
       "      <td>...</td>\n",
       "      <td>...</td>\n",
       "      <td>...</td>\n",
       "      <td>...</td>\n",
       "      <td>...</td>\n",
       "      <td>...</td>\n",
       "      <td>...</td>\n",
       "    </tr>\n",
       "    <tr>\n",
       "      <th>98998</th>\n",
       "      <td>1268299</td>\n",
       "      <td>68</td>\n",
       "      <td>4</td>\n",
       "      <td>1945</td>\n",
       "      <td>4</td>\n",
       "      <td>female</td>\n",
       "      <td>541.0</td>\n",
       "      <td>2118</td>\n",
       "      <td>341</td>\n",
       "      <td>3996</td>\n",
       "      <td>18089</td>\n",
       "      <td>3505</td>\n",
       "      <td>11887</td>\n",
       "      <td>491</td>\n",
       "      <td>6202</td>\n",
       "      <td>Senior citizen</td>\n",
       "      <td>15392</td>\n",
       "      <td>6693</td>\n",
       "      <td>Mobile</td>\n",
       "    </tr>\n",
       "    <tr>\n",
       "      <th>98999</th>\n",
       "      <td>1256153</td>\n",
       "      <td>18</td>\n",
       "      <td>12</td>\n",
       "      <td>1995</td>\n",
       "      <td>3</td>\n",
       "      <td>female</td>\n",
       "      <td>21.0</td>\n",
       "      <td>1968</td>\n",
       "      <td>1720</td>\n",
       "      <td>4401</td>\n",
       "      <td>13412</td>\n",
       "      <td>4399</td>\n",
       "      <td>10592</td>\n",
       "      <td>2</td>\n",
       "      <td>2820</td>\n",
       "      <td>Teenager</td>\n",
       "      <td>14991</td>\n",
       "      <td>2822</td>\n",
       "      <td>Mobile</td>\n",
       "    </tr>\n",
       "    <tr>\n",
       "      <th>99000</th>\n",
       "      <td>1195943</td>\n",
       "      <td>15</td>\n",
       "      <td>10</td>\n",
       "      <td>1998</td>\n",
       "      <td>5</td>\n",
       "      <td>female</td>\n",
       "      <td>111.0</td>\n",
       "      <td>2002</td>\n",
       "      <td>1524</td>\n",
       "      <td>11959</td>\n",
       "      <td>12554</td>\n",
       "      <td>11959</td>\n",
       "      <td>11462</td>\n",
       "      <td>0</td>\n",
       "      <td>1092</td>\n",
       "      <td>Teenager</td>\n",
       "      <td>23421</td>\n",
       "      <td>1092</td>\n",
       "      <td>Mobile</td>\n",
       "    </tr>\n",
       "    <tr>\n",
       "      <th>99001</th>\n",
       "      <td>1468023</td>\n",
       "      <td>23</td>\n",
       "      <td>11</td>\n",
       "      <td>1990</td>\n",
       "      <td>4</td>\n",
       "      <td>female</td>\n",
       "      <td>416.0</td>\n",
       "      <td>2560</td>\n",
       "      <td>185</td>\n",
       "      <td>4506</td>\n",
       "      <td>6516</td>\n",
       "      <td>4506</td>\n",
       "      <td>5760</td>\n",
       "      <td>0</td>\n",
       "      <td>756</td>\n",
       "      <td>Young Adult</td>\n",
       "      <td>10266</td>\n",
       "      <td>756</td>\n",
       "      <td>Mobile</td>\n",
       "    </tr>\n",
       "    <tr>\n",
       "      <th>99002</th>\n",
       "      <td>1397896</td>\n",
       "      <td>39</td>\n",
       "      <td>15</td>\n",
       "      <td>1974</td>\n",
       "      <td>5</td>\n",
       "      <td>female</td>\n",
       "      <td>397.0</td>\n",
       "      <td>2049</td>\n",
       "      <td>768</td>\n",
       "      <td>9410</td>\n",
       "      <td>12443</td>\n",
       "      <td>9410</td>\n",
       "      <td>9530</td>\n",
       "      <td>0</td>\n",
       "      <td>2913</td>\n",
       "      <td>Adult</td>\n",
       "      <td>18940</td>\n",
       "      <td>2913</td>\n",
       "      <td>Mobile</td>\n",
       "    </tr>\n",
       "  </tbody>\n",
       "</table>\n",
       "<p>99003 rows × 19 columns</p>\n",
       "</div>"
      ],
      "text/plain": [
       "        userid  age  dob_day  dob_year  dob_month  gender  tenure  \\\n",
       "0      2094382   14       19      1999         11    male   266.0   \n",
       "1      1192601   14        2      1999         11  female     6.0   \n",
       "2      2083884   14       16      1999         11    male    13.0   \n",
       "3      1203168   14       25      1999         12  female    93.0   \n",
       "4      1733186   14        4      1999         12    male    82.0   \n",
       "...        ...  ...      ...       ...        ...     ...     ...   \n",
       "98998  1268299   68        4      1945          4  female   541.0   \n",
       "98999  1256153   18       12      1995          3  female    21.0   \n",
       "99000  1195943   15       10      1998          5  female   111.0   \n",
       "99001  1468023   23       11      1990          4  female   416.0   \n",
       "99002  1397896   39       15      1974          5  female   397.0   \n",
       "\n",
       "       friend_count  friendships_initiated  likes  likes_received  \\\n",
       "0                 0                      0      0               0   \n",
       "1                 0                      0      0               0   \n",
       "2                 0                      0      0               0   \n",
       "3                 0                      0      0               0   \n",
       "4                 0                      0      0               0   \n",
       "...             ...                    ...    ...             ...   \n",
       "98998          2118                    341   3996           18089   \n",
       "98999          1968                   1720   4401           13412   \n",
       "99000          2002                   1524  11959           12554   \n",
       "99001          2560                    185   4506            6516   \n",
       "99002          2049                    768   9410           12443   \n",
       "\n",
       "       mobile_likes  mobile_likes_received  www_likes  www_likes_received  \\\n",
       "0                 0                      0          0                   0   \n",
       "1                 0                      0          0                   0   \n",
       "2                 0                      0          0                   0   \n",
       "3                 0                      0          0                   0   \n",
       "4                 0                      0          0                   0   \n",
       "...             ...                    ...        ...                 ...   \n",
       "98998          3505                  11887        491                6202   \n",
       "98999          4399                  10592          2                2820   \n",
       "99000         11959                  11462          0                1092   \n",
       "99001          4506                   5760          0                 756   \n",
       "99002          9410                   9530          0                2913   \n",
       "\n",
       "              age cat  mobile   Web preference  \n",
       "0            Teenager       0     0    Neutral  \n",
       "1            Teenager       0     0    Neutral  \n",
       "2            Teenager       0     0    Neutral  \n",
       "3            Teenager       0     0    Neutral  \n",
       "4            Teenager       0     0    Neutral  \n",
       "...               ...     ...   ...        ...  \n",
       "98998  Senior citizen   15392  6693     Mobile  \n",
       "98999        Teenager   14991  2822     Mobile  \n",
       "99000        Teenager   23421  1092     Mobile  \n",
       "99001     Young Adult   10266   756     Mobile  \n",
       "99002           Adult   18940  2913     Mobile  \n",
       "\n",
       "[99003 rows x 19 columns]"
      ]
     },
     "execution_count": 10,
     "metadata": {},
     "output_type": "execute_result"
    }
   ],
   "source": [
    "#To create new colum with User preference of Mobile or web\n",
    "data['mobile']=data['mobile_likes']+data['mobile_likes_received']\n",
    "data['Web']=data['www_likes']+data['www_likes_received']\n",
    "filters= [(data.mobile>data.Web), (data.mobile<data.Web),(data.mobile==data.Web)]\n",
    "values=[\"Mobile\",\"Web\",\"Neutral\"]\n",
    "data['preference']=np.select(filters,values)\n",
    "data"
   ]
  },
  {
   "cell_type": "markdown",
   "metadata": {},
   "source": [
    "**Observations:**\n",
    "\n",
    "- created new column by classifying the users based on the preference over **Mobile** and **Web**"
   ]
  },
  {
   "cell_type": "markdown",
   "metadata": {},
   "source": [
    "<a name = Section81></a>\n",
    "**<h4>Question:** Which Age category has maximum no of Facebook users?</h4>"
   ]
  },
  {
   "cell_type": "code",
   "execution_count": 7,
   "metadata": {},
   "outputs": [
    {
     "data": {
      "image/png": "[encoded data removed]",
      "text/plain": [
       "<Figure size 720x720 with 1 Axes>"
      ]
     },
     "metadata": {},
     "output_type": "display_data"
    }
   ],
   "source": [
    "#Percentage users based on Age category\n",
    "figure = plt.figure(figsize=[10, 10])\n",
    "\n",
    "space = np.ones(5)/10\n",
    "\n",
    "data['age cat'].value_counts().plot(kind='pie', explode=space, fontsize=14, \n",
    "                                       autopct='%1.1f%%', wedgeprops=dict(width=0.15), \n",
    "                                        startangle=170, legend=False)\n",
    "\n",
    "plt.ylabel(ylabel='Age category', size=14)\n",
    "plt.title(label='% of FB users', size=16)\n",
    "plt.show()"
   ]
  },
  {
   "cell_type": "markdown",
   "metadata": {},
   "source": [
    "**Observations:**\n",
    "\n",
    "- Maximum Facebook users are in **Adult** category with **42.3%**, followed by **Young adult** with **26%**."
   ]
  },
  {
   "cell_type": "markdown",
   "metadata": {},
   "source": [
    "<a name = Section82></a>\n",
    "**<h4>Question:** Which Gender category has highest facebook users?</h4>"
   ]
  },
  {
   "cell_type": "code",
   "execution_count": 42,
   "metadata": {},
   "outputs": [
    {
     "data": {
      "image/png": "[encoded data removed]",
      "text/plain": [
       "<Figure size 720x720 with 1 Axes>"
      ]
     },
     "metadata": {},
     "output_type": "display_data"
    }
   ],
   "source": [
    "#male vs female fb users\n",
    "figure = plt.figure(figsize=[10, 10])\n",
    "\n",
    "space = np.ones(2)/10\n",
    "\n",
    "# Using magic of pandas pie() function\n",
    "data['gender'].value_counts().plot(kind='pie', explode=space, fontsize=14, \n",
    "                                       autopct='%1.1f%%', wedgeprops=dict(width=0.15), \n",
    "                                        startangle=170, legend=False)\n",
    "\n",
    "plt.ylabel(ylabel='Gender type', size=14)\n",
    "plt.title(label='% of Male and Female users', size=16)\n",
    "plt.show()"
   ]
  },
  {
   "cell_type": "markdown",
   "metadata": {},
   "source": [
    "**Observations:**\n",
    "\n",
    "- Maximum Facebook users are in **Male** category with **59.3%**.\n"
   ]
  },
  {
   "cell_type": "markdown",
   "metadata": {},
   "source": [
    "<a name = Section83></a>\n",
    "**<h4>Question:** Among different Age categories which Gender category has highest facebook users?</h4>"
   ]
  },
  {
   "cell_type": "code",
   "execution_count": 12,
   "metadata": {},
   "outputs": [
    {
     "data": {
      "image/png": "[encoded data removed]",
      "text/plain": [
       "<Figure size 1080x504 with 1 Axes>"
      ]
     },
     "metadata": {
      "needs_background": "light"
     },
     "output_type": "display_data"
    }
   ],
   "source": [
    "#Gender v/s and age category %\n",
    "figure = plt.figure(figsize=(15, 7))\n",
    "\n",
    "sns.countplot(x='age cat', hue='gender', data=data)\n",
    "\n",
    "plt.title(\"No of Users based on Age Cat and Gender\", size=16)\n",
    "plt.xlabel(\"Age Category\", size=14)\n",
    "plt.ylabel(\"No of Users\", size=14)\n",
    "plt.xticks(size=12)\n",
    "plt.yticks(size=12)\n",
    "plt.grid(b=True)\n",
    "plt.show()"
   ]
  },
  {
   "cell_type": "markdown",
   "metadata": {},
   "source": [
    "**Observations:**\n",
    "\n",
    "- In all age category **Male** users are more than **Female** users except in Senior citizen group."
   ]
  },
  {
   "cell_type": "markdown",
   "metadata": {},
   "source": [
    "<a name = Section84></a>\n",
    "**<h4>Question:** Which Age category users has highest Friend counts?</h4>"
   ]
  },
  {
   "cell_type": "code",
   "execution_count": 22,
   "metadata": {},
   "outputs": [
    {
     "data": {
      "image/png": "[encoded data removed]",
      "text/plain": [
       "<Figure size 1440x504 with 1 Axes>"
      ]
     },
     "metadata": {
      "needs_background": "light"
     },
     "output_type": "display_data"
    }
   ],
   "source": [
    "# age group wise friend count \n",
    "figure = plt.figure(figsize=[20, 7])\n",
    "data_new=data.set_index('age cat')\n",
    "data_new.groupby(by='age cat')['friend_count'].mean().plot(kind = 'bar',color='#1B9E77')\n",
    "plt.xticks(rotation=0, size=12)\n",
    "plt.yticks(ticks=np.arange(0,401,50), size=12)\n",
    "plt.xlabel(xlabel='Age category', size=14)\n",
    "plt.ylabel(ylabel='Average Friend Count', size=14)\n",
    "plt.title(label='Age Category V/s Friend count', size=16)\n",
    "plt.grid(b=True)\n",
    "plt.show()"
   ]
  },
  {
   "cell_type": "markdown",
   "metadata": {},
   "source": [
    "**Observations:**\n",
    "\n",
    "- **Super Sr ctizen** category has Highest Friends, followed by **Teenager** and then **Young adult**."
   ]
  },
  {
   "cell_type": "markdown",
   "metadata": {},
   "source": [
    "<a name = Section85></a>\n",
    "**<h4>Question:** Which Age category users has Intiated highest Friend requests?</h4>"
   ]
  },
  {
   "cell_type": "code",
   "execution_count": 23,
   "metadata": {},
   "outputs": [
    {
     "data": {
      "image/png": "[encoded data removed]",
      "text/plain": [
       "<Figure size 1440x504 with 1 Axes>"
      ]
     },
     "metadata": {
      "needs_background": "light"
     },
     "output_type": "display_data"
    }
   ],
   "source": [
    "# age group wise  friend intiated\n",
    "figure = plt.figure(figsize=[20, 7])\n",
    "data_new=data.set_index('age cat')\n",
    "data_new.groupby(by='age cat')['friendships_initiated'].mean().plot(kind = 'bar',color='#1B9E77')\n",
    "plt.xticks(rotation=0, size=12)\n",
    "plt.yticks(ticks=np.arange(0,201,50), size=12)\n",
    "plt.xlabel(xlabel='Age category', size=14)\n",
    "plt.ylabel(ylabel='Average Friendships Initiated', size=14)\n",
    "plt.title(label='Age Category V/s Friendships Initiated', size=16)\n",
    "plt.grid(b=True)\n",
    "plt.show()"
   ]
  },
  {
   "cell_type": "markdown",
   "metadata": {},
   "source": [
    "**Observations:**\n",
    "\n",
    "- **Super Senior ctizen** has Intiated More Friend request, followed by **Teenager** and then **Young Adult**"
   ]
  },
  {
   "cell_type": "markdown",
   "metadata": {},
   "source": [
    "<a name = Section86></a>\n",
    "**<h4>Question:** Which Age category users **gives** more **Likes**?</h4>"
   ]
  },
  {
   "cell_type": "code",
   "execution_count": 43,
   "metadata": {},
   "outputs": [
    {
     "data": {
      "image/png": "[encoded data removed]",
      "text/plain": [
       "<Figure size 1440x504 with 1 Axes>"
      ]
     },
     "metadata": {
      "needs_background": "light"
     },
     "output_type": "display_data"
    }
   ],
   "source": [
    "# age group wise People who gives likes \n",
    "figure = plt.figure(figsize=[20, 7])\n",
    "data_new=data.set_index('age cat')\n",
    "data_new.groupby(by='age cat')['likes'].mean().plot(kind = 'bar',color='#1B9E77')\n",
    "plt.xticks(rotation=0, size=12)\n",
    "plt.yticks(ticks=np.arange(0,251,50), size=12)\n",
    "plt.xlabel(xlabel='Age Category', size=14)\n",
    "plt.ylabel(ylabel='Average of likes given', size=14)\n",
    "plt.title(label='Age V/s No of likes_given', size=16)\n",
    "plt.grid(b=True)\n",
    "plt.show()"
   ]
  },
  {
   "cell_type": "markdown",
   "metadata": {},
   "source": [
    "**Observations:**\n",
    "\n",
    "- **Teenager** category users gives more likes followed by **Young Adult** and **Senior citizen**."
   ]
  },
  {
   "cell_type": "markdown",
   "metadata": {},
   "source": [
    "<a name = Section87></a>\n",
    "**<h4>Question:** Which Age category users **Recives** more **Likes**?</h4>"
   ]
  },
  {
   "cell_type": "code",
   "execution_count": 29,
   "metadata": {},
   "outputs": [
    {
     "data": {
      "image/png": "[encoded data removed]",
      "text/plain": [
       "<Figure size 1440x504 with 1 Axes>"
      ]
     },
     "metadata": {
      "needs_background": "light"
     },
     "output_type": "display_data"
    }
   ],
   "source": [
    "# age group wise People who recive likes \n",
    "figure = plt.figure(figsize=[20, 7])\n",
    "data_new=data.set_index('age cat')\n",
    "data_new.groupby(by='age cat')['likes_received'].mean().plot(kind = 'bar',color='#1B9E77')\n",
    "plt.xticks(rotation=0, size=12)\n",
    "plt.yticks(ticks=np.arange(0,251,50), size=12)\n",
    "plt.xlabel(xlabel='Age Category', size=14)\n",
    "plt.ylabel(ylabel='Average of likes_received', size=14)\n",
    "plt.title(label='Age V/s No of likes_received', size=16)\n",
    "plt.grid(b=True)\n",
    "plt.show()"
   ]
  },
  {
   "cell_type": "markdown",
   "metadata": {},
   "source": [
    "**Observations:**\n",
    "\n",
    "- **Teenager** category users recives more likes followed by **Young Adult**.\n"
   ]
  },
  {
   "cell_type": "markdown",
   "metadata": {},
   "source": [
    "<a name = Section88></a>\n",
    "**<h4>Question:** Which Gender category users has more **Friend count** and **intiated more frend requests**?</h4>"
   ]
  },
  {
   "cell_type": "code",
   "execution_count": 48,
   "metadata": {},
   "outputs": [
    {
     "data": {
      "image/png": "[encoded data removed]",
      "text/plain": [
       "<Figure size 1080x504 with 1 Axes>"
      ]
     },
     "metadata": {
      "needs_background": "light"
     },
     "output_type": "display_data"
    }
   ],
   "source": [
    "# Gender wise friend count \n",
    "figure = plt.figure(figsize=[15, 7])\n",
    "data_new=data.set_index('gender')\n",
    "data_new.groupby(by='gender')['friend_count'].mean().plot(kind = 'bar',color='orange')\n",
    "data_new.groupby(by='gender')['friendships_initiated'].mean().plot(kind = 'bar',color='grey')\n",
    "plt.xticks(rotation=0, size=12)\n",
    "plt.yticks(ticks=np.arange(0,251,50), size=12)\n",
    "plt.xlabel(xlabel='Gender', size=14)\n",
    "plt.ylabel(ylabel='Friend Count', size=14)\n",
    "plt.title(label='Gender V/s Friend count', size=16)\n",
    "plt.grid(b=True)\n",
    "plt.legend(labels=('friend_count', 'friendships_initiated'))\n",
    "plt.show()"
   ]
  },
  {
   "cell_type": "markdown",
   "metadata": {},
   "source": [
    "**Observations:**\n",
    "\n",
    "- **Female** users has more Friends and intiates more Friend requests.\n",
    "- Also both male and female users has more firend counts then friends intiated."
   ]
  },
  {
   "cell_type": "markdown",
   "metadata": {},
   "source": [
    "<a name = Section89></a>\n",
    "**<h4>Question:** Which Gender category users gives more **Likes** and **recives more Likes**?</h4>"
   ]
  },
  {
   "cell_type": "code",
   "execution_count": 49,
   "metadata": {},
   "outputs": [
    {
     "data": {
      "image/png": "[encoded data removed]",
      "text/plain": [
       "<Figure size 1080x504 with 1 Axes>"
      ]
     },
     "metadata": {
      "needs_background": "light"
     },
     "output_type": "display_data"
    }
   ],
   "source": [
    "# Gender wise People who give and recives likes \n",
    "figure = plt.figure(figsize=[15, 7])\n",
    "data_new=data.set_index('gender')\n",
    "data_new.groupby(by='gender')['likes'].mean().plot(kind = 'bar',color='orange')\n",
    "data_new.groupby(by='gender')['likes_received'].mean().plot(kind = 'bar',color='grey')\n",
    "plt.xticks(rotation=0, size=12)\n",
    "plt.yticks(ticks=np.arange(0,300,20), size=12)\n",
    "plt.xlabel(xlabel='Gender', size=14)\n",
    "plt.ylabel(ylabel='Average of likes given', size=14)\n",
    "plt.title(label='Gender V/s No of Average Likes given', size=16)\n",
    "plt.grid(b=True)\n",
    "plt.legend(labels=('likes', 'likes_received'))\n",
    "plt.show()"
   ]
  },
  {
   "cell_type": "markdown",
   "metadata": {},
   "source": [
    "**Observations:**\n",
    "\n",
    "- **Female** users gives and recives more likes.\n",
    "- Also both Female and Male gives more likes than they recived"
   ]
  },
  {
   "cell_type": "markdown",
   "metadata": {},
   "source": [
    "<a name = Section810></a>\n",
    "**<h4>Question:** Which is the most preffered option for using Facebook among all the users?</h4>"
   ]
  },
  {
   "cell_type": "code",
   "execution_count": 13,
   "metadata": {},
   "outputs": [
    {
     "data": {
      "image/png": "[encoded data removed]",
      "text/plain": [
       "<Figure size 720x720 with 1 Axes>"
      ]
     },
     "metadata": {},
     "output_type": "display_data"
    }
   ],
   "source": [
    "#Percentage users based on their preference\n",
    "figure = plt.figure(figsize=[10, 10])\n",
    "\n",
    "space = np.ones(3)/10\n",
    "\n",
    "# Using magic of pandas pie() function\n",
    "data['preference'].value_counts().plot(kind='pie', explode=space, fontsize=14, \n",
    "                                       autopct='%1.1f%%', wedgeprops=dict(width=0.15), \n",
    "                                        startangle=170, legend=False)\n",
    "\n",
    "plt.ylabel(ylabel='Preference', size=14)\n",
    "plt.title(label='% of FB users', size=16)\n",
    "plt.show()"
   ]
  },
  {
   "cell_type": "markdown",
   "metadata": {},
   "source": [
    "**Observations:**\n",
    "\n",
    "- **Mobile App** is the most preffered option to use facebook.\n",
    "- **57.8%** of users prefer Mobile App."
   ]
  },
  {
   "cell_type": "markdown",
   "metadata": {},
   "source": [
    "<a name = Section811></a>\n",
    "**<h4>Question:** Which is the most preffered option for using Facebook among different **Age** categories?</h4>"
   ]
  },
  {
   "cell_type": "code",
   "execution_count": 20,
   "metadata": {},
   "outputs": [
    {
     "data": {
      "image/png": "[encoded data removed]",
      "text/plain": [
       "<Figure size 1080x504 with 1 Axes>"
      ]
     },
     "metadata": {
      "needs_background": "light"
     },
     "output_type": "display_data"
    }
   ],
   "source": [
    "#Age category wise preference\n",
    "figure = plt.figure(figsize=(15, 7))\n",
    "\n",
    "sns.countplot(x='age cat', hue='preference', data=data)\n",
    "\n",
    "plt.title(\"Age Cat v/s Preference\", size=16)\n",
    "plt.xlabel(\"Age Category\", size=14)\n",
    "plt.ylabel(\"No of Users\", size=14)\n",
    "plt.xticks(size=12)\n",
    "plt.yticks(size=12)\n",
    "plt.grid(b=True)\n",
    "\n",
    "plt.show()"
   ]
  },
  {
   "cell_type": "markdown",
   "metadata": {},
   "source": [
    "**Observations:**\n",
    "\n",
    "- All Age group users prefer Mobile app over web, except senior citizen who prefers both Web and mobile equally"
   ]
  },
  {
   "cell_type": "markdown",
   "metadata": {},
   "source": [
    "<a name = Section812></a>\n",
    "**<h4>Question:** Which is the most preffered option for using Facebook among different **Gender** categories?</h4>"
   ]
  },
  {
   "cell_type": "code",
   "execution_count": 21,
   "metadata": {},
   "outputs": [
    {
     "data": {
      "image/png": "[encoded data removed]",
      "text/plain": [
       "<Figure size 1080x504 with 1 Axes>"
      ]
     },
     "metadata": {
      "needs_background": "light"
     },
     "output_type": "display_data"
    }
   ],
   "source": [
    "#Gender wise preference\n",
    "figure = plt.figure(figsize=(15, 7))\n",
    "\n",
    "sns.countplot(x='gender', hue='preference', data=data)\n",
    "\n",
    "plt.title(\"Gender v/s Preference\", size=16)\n",
    "plt.xlabel(\"Age Category\", size=14)\n",
    "plt.ylabel(\"No of Users\", size=14)\n",
    "plt.xticks(size=12)\n",
    "plt.yticks(size=12)\n",
    "plt.grid(b=True)\n",
    "\n",
    "plt.show()"
   ]
  },
  {
   "cell_type": "markdown",
   "metadata": {},
   "source": [
    "**Observations:**\n",
    "\n",
    "- Both **Male** and **Female** users prefer Mobile app"
   ]
  },
  {
   "cell_type": "markdown",
   "metadata": {},
   "source": [
    "<a name = Section813></a>\n",
    "**<h4>Question:** Which age group users are having highest tenure in the facebook?</h4>"
   ]
  },
  {
   "cell_type": "code",
   "execution_count": 25,
   "metadata": {},
   "outputs": [
    {
     "data": {
      "image/png": "[encoded data removed]",
      "text/plain": [
       "<Figure size 1080x504 with 1 Axes>"
      ]
     },
     "metadata": {
      "needs_background": "light"
     },
     "output_type": "display_data"
    }
   ],
   "source": [
    "# age group wise tenure \n",
    "figure = plt.figure(figsize=[15, 7])\n",
    "data_new=data.set_index('age cat')\n",
    "data_new.groupby(by='age cat')['tenure'].mean().plot(kind = 'bar',color='#1B9E77')\n",
    "plt.xticks(rotation=0, size=12)\n",
    "plt.yticks(ticks=np.arange(0,1200,100), size=12)\n",
    "plt.xlabel(xlabel='Age category', size=14)\n",
    "plt.ylabel(ylabel='Average Days', size=14)\n",
    "plt.title(label='Age Category V/s Days of Stay in Face book', size=16)\n",
    "plt.grid(b=True)\n",
    "plt.show()"
   ]
  },
  {
   "cell_type": "markdown",
   "metadata": {},
   "source": [
    "**Observations:**\n",
    "\n",
    "- **Super senior citizen** stay on face book is longer than any other categories"
   ]
  },
  {
   "cell_type": "markdown",
   "metadata": {},
   "source": [
    "<a name = Section814></a>\n",
    "**<h4>Question:** Which gender category users are having highest tenure in the facebook?</h4>"
   ]
  },
  {
   "cell_type": "code",
   "execution_count": 27,
   "metadata": {},
   "outputs": [
    {
     "data": {
      "image/png": "[encoded data removed]",
      "text/plain": [
       "<Figure size 1080x504 with 1 Axes>"
      ]
     },
     "metadata": {
      "needs_background": "light"
     },
     "output_type": "display_data"
    }
   ],
   "source": [
    "# Gender wise tenure \n",
    "figure = plt.figure(figsize=[15, 7])\n",
    "data_new=data.set_index('gender')\n",
    "data_new.groupby(by='gender')['tenure'].mean().plot(kind = 'bar',color='#1B9E77')\n",
    "plt.xticks(rotation=0, size=12)\n",
    "plt.yticks(ticks=np.arange(0,601,100), size=12)\n",
    "plt.xlabel(xlabel='Gender', size=14)\n",
    "plt.ylabel(ylabel='Average Days', size=14)\n",
    "plt.title(label='Gender V/s Days of Stay in Face book', size=16)\n",
    "plt.grid(b=True)\n",
    "plt.show()"
   ]
  },
  {
   "cell_type": "markdown",
   "metadata": {},
   "source": [
    "**Observations:**\n",
    "\n",
    "- **Female** users tenure on facebook is longer than male users."
   ]
  },
  {
   "cell_type": "markdown",
   "metadata": {},
   "source": [
    "<a name = Section815></a>\n",
    "**<h4>Question:** Which Users gives and recives more Likes among Mobile App and Web?</h4>"
   ]
  },
  {
   "cell_type": "code",
   "execution_count": 31,
   "metadata": {},
   "outputs": [
    {
     "data": {
      "image/png": "[encoded data removed]",
      "text/plain": [
       "<Figure size 1080x504 with 1 Axes>"
      ]
     },
     "metadata": {
      "needs_background": "light"
     },
     "output_type": "display_data"
    }
   ],
   "source": [
    "#Average likes given by user preference\n",
    "figure = plt.figure(figsize=[15, 7])\n",
    "data_new=data.set_index('preference')\n",
    "data_new.groupby(by='preference')['likes'].mean().plot(kind = 'bar',color='#1B9E77')\n",
    "plt.xticks(rotation=0, size=12)\n",
    "plt.yticks(ticks=np.arange(0,201,20), size=12)\n",
    "plt.xlabel(xlabel='preference', size=14)\n",
    "plt.ylabel(ylabel='Average Likes given', size=14)\n",
    "plt.title(label='Average likes given for each Preference', size=16)\n",
    "plt.grid(b=True)\n",
    "plt.show()"
   ]
  },
  {
   "cell_type": "code",
   "execution_count": 32,
   "metadata": {},
   "outputs": [
    {
     "data": {
      "image/png": "[encoded data removed]",
      "text/plain": [
       "<Figure size 1080x504 with 1 Axes>"
      ]
     },
     "metadata": {
      "needs_background": "light"
     },
     "output_type": "display_data"
    }
   ],
   "source": [
    "#Average likes recived by user preference\n",
    "figure = plt.figure(figsize=[15, 7])\n",
    "data_new=data.set_index('preference')\n",
    "data_new.groupby(by='preference')['likes_received'].mean().plot(kind = 'bar',color='#1B9E77')\n",
    "plt.xticks(rotation=0, size=12)\n",
    "plt.yticks(ticks=np.arange(0,201,20), size=12)\n",
    "plt.xlabel(xlabel='preference', size=14)\n",
    "plt.ylabel(ylabel='Average Likes recived', size=14)\n",
    "plt.title(label='Average likes recived for each Preference', size=16)\n",
    "plt.grid(b=True)\n",
    "plt.show()"
   ]
  },
  {
   "cell_type": "markdown",
   "metadata": {},
   "source": [
    "**Observations:**\n",
    "\n",
    "- Both mobile user and web user gives and recives almost same no of likes"
   ]
  },
  {
   "cell_type": "markdown",
   "metadata": {
    "colab_type": "text",
    "id": "Pqk4cV2wrIIZ"
   },
   "source": [
    "---\n",
    "<a name = Section9></a>\n",
    "# **9. Summarization**\n",
    "---"
   ]
  },
  {
   "cell_type": "markdown",
   "metadata": {
    "colab_type": "text",
    "id": "wducAS9QrPfZ"
   },
   "source": [
    "<a name = Section91></a>\n",
    "### **9.1 Conclusion**\n",
    "- The Facebook has maximum users from **Male** category and maximum of users belong to **Adult** age group. \n",
    "\n",
    "- Among all age categories **Super senior citizens** has highest number of Friends and also intiates maximum Friend requests.Hence they are more intrested in making Freinds and expanding there social connections through Faecbook.\n",
    "\n",
    "- **Teenager** Users are usually like to give more likes to others and recive likes from others. Hence they are using Facebook to know there friends status or photos and appriciate them. \n",
    "\n",
    "- Among Male and Females, **Female** users are having more Friends and also has highest number of Friend request. Also Female users gives and recives more likes. Hence when compared to Male, Female users are more active in the Facebook and socialize with their friends.\n",
    "\n",
    "- Among all the age group and all gender category, **Mobile App** is most preffered way of using the Facebook.\n",
    "\n",
    "- Among all the age category, **Super senior citizen** users are having the longest stay on the Facebook. Also **Female** users prefer to stay longer on the Facebook\n",
    " "
   ]
  },
  {
   "cell_type": "markdown",
   "metadata": {
    "colab_type": "text",
    "id": "z3MtiiACrVJq"
   },
   "source": [
    "<a name = Section92></a>\n",
    "### **9.2 Actionable Insights**\n",
    "\n",
    "- As Mobile App is the preferred option among all the users, Facebook shall concentrate developing the updates and more user freindly features on the mobile app.\n",
    "\n",
    "- As female users are more active in the facebook, the comapany can look to use this to market the female oriented products or informations which will increase the company revenue and also retention of Female users\n",
    "\n",
    "- As we can see the male users are not so active on the facebook, even though they are highest users, company can look to attract male users also by giving more friend suggestions and product suggestions, which makes them more active users and also longer tenure\n"
   ]
  }
 ],
 "metadata": {
  "colab": {
   "authorship_tag": "ABX9TyPYnAdiY7Enody0No4RXYaD",
   "collapsed_sections": [],
   "name": "Analysis on Facebook Utilization.ipynb",
   "provenance": []
  },
  "kernelspec": {
   "display_name": "Python 3",
   "language": "python",
   "name": "python3"
  },
  "language_info": {
   "codemirror_mode": {
    "name": "ipython",
    "version": 3
   },
   "file_extension": ".py",
   "mimetype": "text/x-python",
   "name": "python",
   "nbconvert_exporter": "python",
   "pygments_lexer": "ipython3",
   "version": "3.8.8"
  }
 },
 "nbformat": 4,
 "nbformat_minor": 1
}
